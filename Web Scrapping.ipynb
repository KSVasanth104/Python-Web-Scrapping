{
 "cells": [
  {
   "cell_type": "code",
   "execution_count": 9,
   "id": "53a51cee",
   "metadata": {},
   "outputs": [],
   "source": [
    "from bs4 import BeautifulSoup as BS"
   ]
  },
  {
   "cell_type": "code",
   "execution_count": 30,
   "id": "ce47c6bc",
   "metadata": {},
   "outputs": [],
   "source": [
    "import requests,openpyxl"
   ]
  },
  {
   "cell_type": "code",
   "execution_count": 33,
   "id": "4251f581",
   "metadata": {},
   "outputs": [],
   "source": [
    "excel = openpyxl.Workbook()\n",
    "sheet = excel.active\n",
    "sheet.title = 'Top Rated Movies'"
   ]
  },
  {
   "cell_type": "code",
   "execution_count": 34,
   "id": "38bd7844",
   "metadata": {},
   "outputs": [],
   "source": [
    "sheet.append(['Movie RanK','Movie Name','Year of Release', 'IMDB Rating'])"
   ]
  },
  {
   "cell_type": "code",
   "execution_count": 11,
   "id": "58348e4e",
   "metadata": {},
   "outputs": [],
   "source": [
    "html = requests.get('https://www.imdb.com/chart/top/?ref_=nv_mv_250')"
   ]
  },
  {
   "cell_type": "code",
   "execution_count": 12,
   "id": "66beb9cc",
   "metadata": {},
   "outputs": [],
   "source": [
    "soup = BS(html.text,'html.parser')"
   ]
  },
  {
   "cell_type": "code",
   "execution_count": 14,
   "id": "d176740b",
   "metadata": {},
   "outputs": [],
   "source": [
    "movies = soup.find('tbody',class_='lister-list').find_all('tr')"
   ]
  },
  {
   "cell_type": "code",
   "execution_count": 35,
   "id": "013e9e28",
   "metadata": {},
   "outputs": [],
   "source": [
    "for movie in movies:\n",
    "    name = movie.find('td', class_ = 'titleColumn').a.text\n",
    "    rank =  movie.find('td', class_ = 'titleColumn').get_text(strip=True).split('.')[0]\n",
    "    year =  movie.find('td', class_ = 'titleColumn').span.text.strip('()')\n",
    "    rating = movie.find('td', class_ = 'ratingColumn imdbRating').strong.text\n",
    "    sheet.append([rank,name,year,rating])"
   ]
  },
  {
   "cell_type": "code",
   "execution_count": 36,
   "id": "feef150a",
   "metadata": {},
   "outputs": [],
   "source": [
    "excel.save('IMDB movie Rating.xlsx')"
   ]
  },
  {
   "cell_type": "code",
   "execution_count": null,
   "id": "b751a08c",
   "metadata": {},
   "outputs": [],
   "source": []
  }
 ],
 "metadata": {
  "kernelspec": {
   "display_name": "Python 3 (ipykernel)",
   "language": "python",
   "name": "python3"
  },
  "language_info": {
   "codemirror_mode": {
    "name": "ipython",
    "version": 3
   },
   "file_extension": ".py",
   "mimetype": "text/x-python",
   "name": "python",
   "nbconvert_exporter": "python",
   "pygments_lexer": "ipython3",
   "version": "3.9.12"
  }
 },
 "nbformat": 4,
 "nbformat_minor": 5
}
